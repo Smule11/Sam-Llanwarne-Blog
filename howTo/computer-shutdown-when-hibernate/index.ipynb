{
 "cells": [
  {
   "cell_type": "raw",
   "metadata": {},
   "source": [
    "---\n",
    "title: Stopping PC Shutdown when Hibernating\n",
    "author: Sam Llanwarne\n",
    "date: '2023-02-23'\n",
    "categories:\n",
    "  - How To\n",
    "format:\n",
    "  html:\n",
    "    toc: true\n",
    "---"
   ]
  },
  {
   "attachments": {},
   "cell_type": "markdown",
   "metadata": {},
   "source": [
    "![](shutdown-hibernate_andy-holmes-CbPCtZ4ZiCI-unsplash.jpg){style=\"width: 100%; object-fit: cover; object-position: center;\"}\n",
    "\n",
    "Sometimes when I hibernate the computer, it shuts down instead of hibernating. This is a problem when I have a lot of unsaved work.\n",
    "\n",
    "Here, in the article [How to Fix Windows 10 Shuts Down Instead of Going to Sleep or Hibernating](https://www.guidingtech.com/fix-windows-10-shuts-down-instead-sleep-hibernating/#:~:text=If%20the%20computer%20shuts%20down,off%20automatically%2C%20and%20that's%20okay.) the writer GAURAV BIDASARIA says that the issue might be with the power options.\n",
    "\n",
    "![change-power-options-0.png](change-power-options-0.png){style=\"width: 100%;\"}\n",
    "\n",
    "![change-power-options-1.png](change-power-options-1.png){style=\"width: 100%;\"}\n",
    "\n",
    "They say to change the hard drive auto-off to 0 minutes (aka never turn off).\n",
    "\n",
    "However, I don't have that option. So to fix this, I go into registry and, as they say here ![https://superuser.com/questions/1536904/windows-10-power-options-missing-on-new-laptop](https://superuser.com/questions/1536904/windows-10-power-options-missing-on-new-laptop), I create an attributes in the appropriate location and give it a DWORD value of 2 to make the option appear, as suggested here ![https://www.tenforums.com/tutorials/65710-add-remove-turn-off-hard-disk-after-power-options-windows.html#option1](https://www.tenforums.com/tutorials/65710-add-remove-turn-off-hard-disk-after-power-options-windows.html#option1).\n",
    "\n",
    "![change-power-options-1.png](change-power-options-2.png){style=\"width: 100%;\"}\n",
    "\n",
    "I have changed it, so the hard drive doesn't turn off, and I also got rid of the fast boot as suggested in the first image. Maybe this will fix the problem.\n",
    "\n",
    "\n"
   ]
  }
 ],
 "metadata": {
  "kernelspec": {
   "display_name": "Python 3",
   "language": "python",
   "name": "python3"
  },
  "language_info": {
   "name": "python",
   "version": "3.9.13"
  },
  "orig_nbformat": 4,
  "vscode": {
   "interpreter": {
    "hash": "11938c6bc6919ae2720b4d5011047913343b08a43b18698fd82dedb0d4417594"
   }
  }
 },
 "nbformat": 4,
 "nbformat_minor": 2
}
