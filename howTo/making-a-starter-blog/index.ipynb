{
 "cells": [
  {
   "cell_type": "raw",
   "metadata": {},
   "source": [
    "---\n",
    "title: Making a Blog\n",
    "author: Sam Llanwarne\n",
    "date: '2023-01-09'\n",
    "categories:\n",
    "  - How To\n",
    "image: lasse-bergqvist-u6NiMLJftRs-unsplash.jpg\n",
    "format:\n",
    "  html:\n",
    "    toc: true\n",
    "---"
   ]
  },
  {
   "attachments": {},
   "cell_type": "markdown",
   "metadata": {},
   "source": [
    "Hello, in a different repo tho."
   ]
  }
 ],
 "metadata": {
  "language_info": {
   "name": "python"
  },
  "orig_nbformat": 4
 },
 "nbformat": 4,
 "nbformat_minor": 2
}
