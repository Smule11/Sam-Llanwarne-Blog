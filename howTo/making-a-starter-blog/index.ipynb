{
 "cells": [
  {
   "cell_type": "raw",
   "metadata": {},
   "source": [
    "---\n",
    "title: Making a Starter Blog\n",
    "author: Sam Llanwarne\n",
    "date: '2023-01-09'\n",
    "categories:\n",
    "  - How To\n",
    "image: lasse-bergqvist-u6NiMLJftRs-unsplash.jpg\n",
    "format:\n",
    "  html:\n",
    "    toc: true\n",
    "---"
   ]
  },
  {
   "attachments": {},
   "cell_type": "markdown",
   "metadata": {},
   "source": [
    "Hello, the actual starter blog will be in a different repo.\n",
    "\n",
    "<br>\n",
    "\n",
    "Here is a list of different ways to consolidate your ideas, from jotting them down on some paper to creating your own blog.\n",
    "\n",
    "<br>\n",
    "\n",
    "Writing on paper can be casual and can be formal, and can be tactile and has it's own place, but you might want to complement your paper notes with a digital version. These can be more permanent, portable and shareable.\n",
    "\n",
    "<br>\n",
    "\n",
    "Then there are very casual notetaking methods, like notes and private word documents. There are hugely popular offline journaling apps like [Day One](https://dayoneapp.com/) too. But I find writing publically helps you focus on presentation, communication and gaining a deeper understanding yourself. So how can you do that?\n",
    "\n",
    "<br>\n",
    "\n",
    "So you can make a homemade website. Nice but overkill. Also it can be fun but will likely take much longer to achieve a similar quality aesthetic as a template site.\n",
    "\n",
    "<br>\n",
    "\n",
    "Then there are more plug and play sites, like Wordpress. Getting faster, but still a bit overkill (some people say [frustrating](https://www.bryanwhiting.com/posts/2016-11-07-starting-with-jekyll/starting-with-jekyll.html))\n",
    "\n",
    "<br>\n",
    "\n",
    "Then there is Jupyterbook. Just a book?\n",
    "\n",
    "- https://executablebooks.org/en/latest/gallery.html\n",
    "\n",
    "    + https://helioml.org/Introduction/title.html\n",
    "\n",
    "    <ul>\n",
    "\n",
    "    Just like a book, as in it has the contents on the left, and the pages on the right. Simple and nice. \n",
    "\n",
    "    </ul>\n",
    "\n",
    "    + https://alan-turing-institute.github.io/rse-course/html/index.html\n",
    "\n",
    "<br>\n",
    "\n",
    "Then there is Medium / Towards Data Science / Facebook / Substack\n",
    "\n",
    "\n",
    "Go it alone, no big algorithms in the payment sites?, not sure why, but feels better?\n",
    "\n",
    "Blogger\n",
    "\n",
    "Jekyll\n",
    "\n",
    "https://www.bryanwhiting.com/posts/2016-11-07-starting-with-jekyll/starting-with-jekyll.html\n",
    "http://jekyllthemes.org/\n",
    "https://beautifuljekyll.com/\n",
    "\n",
    "Quarto\n",
    "https://www.bryanwhiting.com/posts/2022-06-20-blogging-with-quarto/\n",
    "\n",
    "\n",
    "\n",
    "\n",
    "Making a Jekyll blog!\n",
    "\n",
    "https://beautifuljekyll.com/\n",
    "\n",
    "This person says to use nbconvert in Jekyll\n",
    "\n",
    "<blockquote class=\"twitter-tweet\"><p lang=\"en\" dir=\"ltr\">Jekyll. No seriously just use nbconvert with a custom template. That’s what I did for am207. Once jupyter notebook is in markdown everything is simple. And GitHub builds it..</p>&mdash; Rahul Dave (@rahuldave@sigmoid.social) (@rahuldave) <a href=\"https://twitter.com/rahuldave/status/1526756898967588870?ref_src=twsrc%5Etfw\">May 18, 2022</a></blockquote> <script async src=\"https://platform.twitter.com/widgets.js\" charset=\"utf-8\"></script>\n",
    "\n",
    "\n",
    "Making a Quarto blog!\n",
    "\n",
    "https://quarto.org/docs/publishing/github-pages.html#github-action\n",
    "https://quarto.org/docs/publishing/quarto-pub.html#github-action\n",
    "\n"
   ]
  }
 ],
 "metadata": {
  "kernelspec": {
   "display_name": "Python 3",
   "language": "python",
   "name": "python3"
  },
  "language_info": {
   "codemirror_mode": {
    "name": "ipython",
    "version": 3
   },
   "file_extension": ".py",
   "mimetype": "text/x-python",
   "name": "python",
   "nbconvert_exporter": "python",
   "pygments_lexer": "ipython3",
   "version": "3.9.13 (tags/v3.9.13:6de2ca5, May 17 2022, 16:36:42) [MSC v.1929 64 bit (AMD64)]"
  },
  "orig_nbformat": 4,
  "vscode": {
   "interpreter": {
    "hash": "11938c6bc6919ae2720b4d5011047913343b08a43b18698fd82dedb0d4417594"
   }
  }
 },
 "nbformat": 4,
 "nbformat_minor": 2
}
