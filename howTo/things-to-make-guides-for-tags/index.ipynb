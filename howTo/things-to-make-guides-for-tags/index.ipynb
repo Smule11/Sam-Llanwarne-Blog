{
 "cells": [
  {
   "attachments": {},
   "cell_type": "raw",
   "metadata": {},
   "source": [
    "---\n",
    "title: Plan of entries for this how to guide\n",
    "author: Sam Llanwarne\n",
    "date: '2022-12-19'\n",
    "categories: [Meta]\n",
    "image: max-saeling-_CGxNOLM1gQ-unsplash.jpg\n",
    "format:\n",
    "  html:\n",
    "    toc: true\n",
    "---"
   ]
  },
  {
   "attachments": {},
   "cell_type": "markdown",
   "metadata": {},
   "source": [
    "\n",
    "-------------------------\n",
    "\n",
    "### How to guide ideas\n",
    "\n",
    "I plan on writing how to guides when I do one off non-trivial things, which would be useful for other people.\n",
    "\n",
    "General examples include, \n",
    "\n",
    "* recreating a simple working version of new AI methods in a easily downloadable and runnable notebook.\n",
    "* going through steps to install software and setting up working environments.\n",
    "* publishing papers and attending conferences.\n",
    "\n",
    "Specific examples to do.\n",
    "\n",
    "* get co-pilot working for coding."
   ]
  }
 ],
 "metadata": {
  "kernelspec": {
   "display_name": "Python 3",
   "language": "python",
   "name": "python3"
  },
  "language_info": {
   "codemirror_mode": {
    "name": "ipython",
    "version": 3
   },
   "file_extension": ".py",
   "mimetype": "text/x-python",
   "name": "python",
   "nbconvert_exporter": "python",
   "pygments_lexer": "ipython3",
   "version": "3.9.13 (tags/v3.9.13:6de2ca5, May 17 2022, 16:36:42) [MSC v.1929 64 bit (AMD64)]"
  },
  "orig_nbformat": 4,
  "vscode": {
   "interpreter": {
    "hash": "11938c6bc6919ae2720b4d5011047913343b08a43b18698fd82dedb0d4417594"
   }
  }
 },
 "nbformat": 4,
 "nbformat_minor": 2
}
