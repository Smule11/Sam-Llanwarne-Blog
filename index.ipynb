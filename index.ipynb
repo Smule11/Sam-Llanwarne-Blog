{
 "cells": [
  {
   "attachments": {},
   "cell_type": "raw",
   "metadata": {},
   "source": [
    "---\n",
    "title: \"Home\"\n",
    "image: profile.jpg\n",
    "about:\n",
    "  template: jolla\n",
    "  links:\n",
    "    - icon: twitter\n",
    "      text: Twitter\n",
    "      href: https://twitter.com\n",
    "    - icon: linkedin\n",
    "      text: LinkedIn\n",
    "      href: https://linkedin.com\n",
    "    - icon: github\n",
    "      text: Github\n",
    "      href: https://github.com\n",
    "---"
   ]
  },
  {
   "attachments": {},
   "cell_type": "markdown",
   "metadata": {},
   "source": [
    "\n",
    "Hi, This is a website collating my thoughts on a variety of (primarily academic) topics.\n",
    "\n",
    "I am focussing on AI and Medicine at the moment, which is an incredibly rich and rewarding domain to work in.\n",
    "\n",
    "I would like to make the topic more accessible, and also to help flatten the speed bumps I have faced by creating simple explainer guides documenting my processes and how I worked around technical and non-technical barriers.\n",
    "\n",
    "I also enjoy open-source and collaborative communities which exist in certain areas, as opposed to isolationist and competitive communities which are less than inspiring, and feel as if putting myself more out there may contribute to this giving culture.\n",
    "\n",
    "Finally, I believe in the old saying that the best way to fully understand something is to try to explain it to someone else.\n",
    "\n",
    "I have a few sections and a few aims, as follows:\n",
    "\n",
    "| Section               | Aim                                                       |\n",
    "| --------------------: | :-------------------------------------------------------- |\n",
    "| Paper Summaries       | To distill a paper into a relevant summary each day       |\n",
    "| Academic Formations   | To do 500 words of academic writing publically / day      |\n",
    "| How To                | To make a How To guide for each non-trivial task I face   |\n",
    "| Blog                  | To explore more nebulous thoughts about AI and I ...      |"
   ]
  }
 ],
 "metadata": {
  "kernelspec": {
   "display_name": "Python 3",
   "language": "python",
   "name": "python3"
  },
  "language_info": {
   "name": "python",
   "version": "3.9.13 (tags/v3.9.13:6de2ca5, May 17 2022, 16:36:42) [MSC v.1929 64 bit (AMD64)]"
  },
  "orig_nbformat": 4,
  "vscode": {
   "interpreter": {
    "hash": "11938c6bc6919ae2720b4d5011047913343b08a43b18698fd82dedb0d4417594"
   }
  }
 },
 "nbformat": 4,
 "nbformat_minor": 2
}
