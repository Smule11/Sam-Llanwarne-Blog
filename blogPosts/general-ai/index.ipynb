{
 "cells": [
  {
   "cell_type": "raw",
   "metadata": {},
   "source": [
    "---\n",
    "title: General AI\n",
    "author: Sam Llanwarne\n",
    "date: '2023-02-11'\n",
    "categories:\n",
    "  - Future\n",
    "format:\n",
    "  html:\n",
    "    toc: true\n",
    "---"
   ]
  },
  {
   "attachments": {},
   "cell_type": "markdown",
   "metadata": {},
   "source": [
    "![](generalAI_alexander-sinn-KgLtFCgfC28-unsplash.jpg){style=\"width: 100%; object-fit: cover; object-position: center;\"}\n",
    "\n",
    "ChatGPT is very popular, but as Noam Chomsky says^[https://www.openculture.com/2023/02/noam-chomsky-on-chatgpt.html], it is just a new form of plagiarism, as all the knowledge in the model is based on the work, writing and art of people posting their thoughts onto the internet. The model is trained on this, and is simply a statistical next word predictor, using deep neural networks.\n",
    "\n",
    "Some call it a \"low resolution copy of the internet\"^[https://www.newyorker.com/tech/annals-of-technology/chatgpt-is-a-blurry-jpeg-of-the-web].\n",
    "\n",
    "But when compared to the race for artificial general intelligence (AGI) I much prefer our race for technology which at least is not going to be conscious.\n",
    "\n",
    "I don't want General AI. Making conscious things which can suffer is def the worst thing we could do? \n",
    "\n",
    "This thought was one of my thoughts which led me to think that it is less likely that we are part of a simulation. If a civilisation was advanced enough to make a simulation they should surely have advanced enough ethics to prevent them from creating suffering on an infinite simulated scale?\n",
    "\n",
    "But we are still incredibly crude as a civilisation, particularly regarding our knowledge of ourselves and ethics at large. And yet we race towards creating AGI and potentially new digital consciousnesses which may in turn lead to an incalcuable level of suffering. Would you like to be a disembodied consciousness, floating around with your thoughts spinning millions of times faster than ours currently do. This is an obvious, black mirror episode, except the suffering would not be felt by humans but another conscious species. Is that why it's a blind spot to us societally, because it wouldn't be humans suffering?\n",
    "\n",
    "Can we slow down and think more? Why are we, societally, like such a headless chicken charging forwards in a rat race.\n",
    "\n",
    "Saying this all outloud sounds dumb. But I've no idea why no one else is talking about this. I reckon the green's will pick up on it first, as usual.\n",
    "\n",
    "\n",
    "\n",
    "\n"
   ]
  }
 ],
 "metadata": {
  "kernelspec": {
   "display_name": "Python 3",
   "language": "python",
   "name": "python3"
  },
  "language_info": {
   "name": "python",
   "version": "3.9.13"
  },
  "orig_nbformat": 4,
  "vscode": {
   "interpreter": {
    "hash": "11938c6bc6919ae2720b4d5011047913343b08a43b18698fd82dedb0d4417594"
   }
  }
 },
 "nbformat": 4,
 "nbformat_minor": 2
}
