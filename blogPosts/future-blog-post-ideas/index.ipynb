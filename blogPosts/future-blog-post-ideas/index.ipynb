{
 "cells": [
  {
   "cell_type": "raw",
   "metadata": {},
   "source": []
  },
  {
   "attachments": {},
   "cell_type": "markdown",
   "metadata": {},
   "source": [
    "\n",
    "\n",
    "Making stained glass - Like could be a good gift idea or something.\n",
    "\n",
    "Also going to a workshop would be fun as a gift, like pottery is fun too and all that.\n",
    "\n",
    "* https://www.wcmanet.org/how-to-make-stained-glass-window/\n",
    "* https://www.youtube.com/watch?v=4jWxYpIRgrw\n",
    "* https://www.youtube.com/watch?v=f6HQIIqgtkI\n",
    "\n",
    "\n",
    "Could be a board game section too. \n",
    "\n",
    "Etc. etc."
   ]
  }
 ],
 "metadata": {
  "kernelspec": {
   "display_name": "Python 3",
   "language": "python",
   "name": "python3"
  },
  "language_info": {
   "name": "python",
   "version": "3.9.13 (tags/v3.9.13:6de2ca5, May 17 2022, 16:36:42) [MSC v.1929 64 bit (AMD64)]"
  },
  "orig_nbformat": 4,
  "vscode": {
   "interpreter": {
    "hash": "11938c6bc6919ae2720b4d5011047913343b08a43b18698fd82dedb0d4417594"
   }
  }
 },
 "nbformat": 4,
 "nbformat_minor": 2
}
