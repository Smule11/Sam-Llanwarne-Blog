{
 "cells": [
  {
   "cell_type": "raw",
   "metadata": {},
   "source": [
    "---\n",
    "title: Writing Tone and Tips Thoughts\n",
    "author: Sam Llanwarne\n",
    "date: '2023-01-05'\n",
    "categories: [Meta]\n",
    "image: shraga-kopstein-_76NrDgrfOo-unsplash.jpg\n",
    "format:\n",
    "  html:\n",
    "    toc: true\n",
    "---"
   ]
  },
  {
   "attachments": {},
   "cell_type": "markdown",
   "metadata": {},
   "source": [
    "Takeaways from other blogs and this blog related to readability...\n",
    "\n",
    "* Avoid making the reader work?\n",
    "    - I find it nice when writing doesn't trip you up or make you pause in order to understand a new complex idea. Complex ideas can be made easily digestible with good writing.\n",
    "* Ensure the writing flows, and is minimal.\n",
    "* Pictures and aesthetic document structuring can make what text you have interesting and engaging.\n",
    "* The reader can leave, typically if they are bored/confused."
   ]
  }
 ],
 "metadata": {
  "kernelspec": {
   "display_name": "Python 3",
   "language": "python",
   "name": "python3"
  },
  "language_info": {
   "codemirror_mode": {
    "name": "ipython",
    "version": 3
   },
   "file_extension": ".py",
   "mimetype": "text/x-python",
   "name": "python",
   "nbconvert_exporter": "python",
   "pygments_lexer": "ipython3",
   "version": "3.9.13"
  },
  "orig_nbformat": 4,
  "vscode": {
   "interpreter": {
    "hash": "11938c6bc6919ae2720b4d5011047913343b08a43b18698fd82dedb0d4417594"
   }
  }
 },
 "nbformat": 4,
 "nbformat_minor": 2
}
