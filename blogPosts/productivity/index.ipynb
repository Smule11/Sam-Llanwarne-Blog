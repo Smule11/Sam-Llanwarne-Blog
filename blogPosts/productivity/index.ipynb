{
 "cells": [
  {
   "cell_type": "raw",
   "metadata": {},
   "source": [
    "---\n",
    "title: Productivity\n",
    "author: Sam Llanwarne\n",
    "date: '2023-01-17'\n",
    "categories:\n",
    "  - Productivity\n",
    "format:\n",
    "  html:\n",
    "    toc: true\n",
    "---"
   ]
  },
  {
   "attachments": {},
   "cell_type": "markdown",
   "metadata": {},
   "source": [
    "Trello - Morgan (wants 15% of income derived from Trello based productivity)\n",
    "\n",
    "Timeblocking - Sara\n",
    "\n",
    "Write what you did before and after - Sara and Anna (wants 15% income derived from OneNote Before and After based productivity)\n",
    "\n",
    "![](before-and-after-OneNote.png)\n",
    "\n",
    "I should also add calendar events things to view long term events which I want and also events which other people want.\n",
    "\n"
   ]
  },
  {
   "attachments": {},
   "cell_type": "markdown",
   "metadata": {},
   "source": [
    "Morgan and Lisi - Trello\n",
    "\n",
    "Sara - Timeboxing\n",
    "\n",
    "Anna - One Note\n",
    "\n",
    "![](before-and-after-OneNote.png)\n",
    "\n",
    "Also I should try and do some calendar stuff, for like events and dates I want stuff done by, or even events and dates that other people want stuff done by."
   ]
  }
 ],
 "metadata": {
  "kernelspec": {
   "display_name": "Python 3",
   "language": "python",
   "name": "python3"
  },
  "language_info": {
   "name": "python",
   "version": "3.9.13 (tags/v3.9.13:6de2ca5, May 17 2022, 16:36:42) [MSC v.1929 64 bit (AMD64)]"
  },
  "orig_nbformat": 4,
  "vscode": {
   "interpreter": {
    "hash": "11938c6bc6919ae2720b4d5011047913343b08a43b18698fd82dedb0d4417594"
   }
  }
 },
 "nbformat": 4,
 "nbformat_minor": 2
}
