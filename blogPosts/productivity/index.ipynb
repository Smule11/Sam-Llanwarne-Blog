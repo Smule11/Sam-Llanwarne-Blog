{
 "cells": [
  {
   "cell_type": "raw",
   "metadata": {},
   "source": [
    "---\n",
    "title: Productivity\n",
    "author: Sam Llanwarne\n",
    "date: '2023-01-17'\n",
    "categories:\n",
    "  - Productivity\n",
    "format:\n",
    "  html:\n",
    "    toc: true\n",
    "---"
   ]
  },
  {
   "attachments": {},
   "cell_type": "markdown",
   "metadata": {},
   "source": [
    "Morgan and Lisi - Trello (Morgan wants 15% of income derived from Trello based productivity)\n",
    "\n",
    "Sara - Timeboxing\n",
    "\n",
    "Anna - One Note: Write what you did before and after (wants 15% income derived from OneNote Before and After based productivity)\n",
    "\n",
    "I should also add calendar events things to view long term events which I want and also events which other people want stuff done by.\n",
    "\n"
   ]
  }
 ],
 "metadata": {
  "kernelspec": {
   "display_name": "Python 3",
   "language": "python",
   "name": "python3"
  },
  "language_info": {
   "name": "python",
   "version": "3.9.13"
  },
  "orig_nbformat": 4,
  "vscode": {
   "interpreter": {
    "hash": "11938c6bc6919ae2720b4d5011047913343b08a43b18698fd82dedb0d4417594"
   }
  }
 },
 "nbformat": 4,
 "nbformat_minor": 2
}
