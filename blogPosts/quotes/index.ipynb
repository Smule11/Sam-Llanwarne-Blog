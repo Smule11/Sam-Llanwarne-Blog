{
 "cells": [
  {
   "cell_type": "raw",
   "metadata": {},
   "source": [
    "---\n",
    "title: Quotes\n",
    "author: Sam Llanwarne\n",
    "date: '2023-01-16'\n",
    "categories:\n",
    "  - Inspiration\n",
    "format:\n",
    "  html:\n",
    "    toc: true\n",
    "---"
   ]
  },
  {
   "attachments": {},
   "cell_type": "markdown",
   "metadata": {},
   "source": [
    "\n",
    "Some quotes...\n",
    "\n",
    "![](dr-seuss-reading-quote.jpg){style=\"width: 100%; object-fit: cover; object-position: center;\"}\n",
    "\n",
    "https://graciousquotes.com/journaling-quotes/\n",
    "\n",
    "https://wisdomquotes.com/reading-quotes/\n",
    "\n",
    "https://www.google.com/search?q=quote+on+reading+and+writing+down+what+you+read+to+remember&rlz=1C1ONGR_en-GBGB1006GB1006&sxsrf=AJOqlzXFw33vhZQkCxnoyJ5GSHzljdjhoQ:1673721693931&source=lnms&tbm=isch&sa=X&ved=2ahUKEwjS7JOY28f8AhXUNcAKHT2GBG8Q_AUoAXoECAEQAw&biw=1229&bih=531&dpr=1.56\n",
    "\n",
    "::: {.column-screen-inset}\n",
    "\n",
    "![](google_results.png){style=\"width: 100%; object-fit: cover; object-position: center;\"}\n",
    "\n",
    ":::"
   ]
  }
 ],
 "metadata": {
  "kernelspec": {
   "display_name": "Python 3",
   "language": "python",
   "name": "python3"
  },
  "language_info": {
   "name": "python",
   "version": "3.9.13 (tags/v3.9.13:6de2ca5, May 17 2022, 16:36:42) [MSC v.1929 64 bit (AMD64)]"
  },
  "orig_nbformat": 4,
  "vscode": {
   "interpreter": {
    "hash": "11938c6bc6919ae2720b4d5011047913343b08a43b18698fd82dedb0d4417594"
   }
  }
 },
 "nbformat": 4,
 "nbformat_minor": 2
}
