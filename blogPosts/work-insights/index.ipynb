{
 "cells": [
  {
   "cell_type": "raw",
   "metadata": {},
   "source": [
    "---\n",
    "title: Work Insights\n",
    "author: Sam Llanwarne\n",
    "date: '2023-01-07'\n",
    "categories: [Planning]\n",
    "image: ismail-salad-osman-hajji-dirir-v7FT5ngIEfA-unsplash.jpg\n",
    "format:\n",
    "  html:\n",
    "    toc: true\n",
    "---"
   ]
  },
  {
   "attachments": {},
   "cell_type": "markdown",
   "metadata": {},
   "source": [
    "### Work Insights\n",
    "\n",
    "Here I might write down some thoughts I might have about productivity and ineffectiveness...^[Markdown does footnotes...]\n",
    "\n",
    "Strive for virtuous cycles, avoid downward spirals. But sometimes do you need to go down to go up? Some people say avoid extreme dopamine events, so you can enjoy the low dopamine events. There's a lot of confusion around how you should live your best life. I think you have to figure it out for yourself, but why figure it out yourself when other people might already have the answers? Because listening to others is also hard. \n",
    "\n",
    "### Writing or Reading\n",
    "\n",
    "Maybe doing anything productive^[in the sense that you are producing something even if it is quite easy and relaxing] is actually productive^[in the sense that it is contributing to a virtuous cycle wherein you become better at being productive when faced with harder, more important tasks]. E.g. reading or writing requires mental effort, to varying degrees and so is therefore useful in the long run even if it doesn't feel useful when you consider you could be doing more important tasks. Essentially, yes do hard tasks first, but also appreciate easy productive tasks.\n",
    "\n",
    "Doing fun and easy productive tasks in between hard important tasks:\n",
    "\n",
    "a) keeps you away from downward destructive behaviours like procrastination,\n",
    "\n",
    "b) improves your ability to do harder, more important tasks,\n",
    "\n",
    "c) can rejuvenate you in a more sustainable, long term way than procrastinating does.\n",
    "\n",
    "### Sleep is productive\n",
    "\n",
    "Sleep is productive.\n",
    "\n",
    "### Tidying\n",
    "\n",
    "Tidying is a easy, perhaps low priority, productive task. However, while I think I am finding that tidying actually makes the harder more important tasks easier.\n",
    "\n",
    "### Time boxing\n",
    "\n",
    "You don't know how long a task will take. Give yourself any random amount of time, whether 1 min or 2 hours or anything in between, and try your best to do the work. Every task is unique and so you don't know how much time or effort a task will take. However, they say with practice you get better at estimating the time a task will take or how much time you should give yourself to do something so you stop before you start drifting.\n",
    "\n",
    "Ultimately, go into each task with your full intention and force of mind. You might find out you fail much more often than you succeed in making progress. If you record how successful you were at completing each task you will soon see how productive you actually are.\n",
    "\n",
    "### Other tips!\n",
    "\n",
    "These are but just a few random tips I heard from friends or thought of myself... Unfortunately, other wiser people have already spent much more time curating a much more aesthetic and well thought out post describing 100 top tips.\n",
    "\n",
    "Please have a quick look,\n",
    "\n",
    "[https://learn.filtered.com/hubfs/Definitive%20100%20Most%20Useful%20Productivity%20Hacks.pdf](https://learn.filtered.com/hubfs/Definitive%20100%20Most%20Useful%20Productivity%20Hacks.pdf)"
   ]
  }
 ],
 "metadata": {
  "kernelspec": {
   "display_name": "Python 3",
   "language": "python",
   "name": "python3"
  },
  "language_info": {
   "codemirror_mode": {
    "name": "ipython",
    "version": 3
   },
   "file_extension": ".py",
   "mimetype": "text/x-python",
   "name": "python",
   "nbconvert_exporter": "python",
   "pygments_lexer": "ipython3",
   "version": "3.9.13"
  },
  "orig_nbformat": 4,
  "vscode": {
   "interpreter": {
    "hash": "11938c6bc6919ae2720b4d5011047913343b08a43b18698fd82dedb0d4417594"
   }
  }
 },
 "nbformat": 4,
 "nbformat_minor": 2
}
