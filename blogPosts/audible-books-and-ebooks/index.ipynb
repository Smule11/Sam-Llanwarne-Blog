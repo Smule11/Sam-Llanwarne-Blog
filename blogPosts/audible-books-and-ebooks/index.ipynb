{
 "cells": [
  {
   "cell_type": "raw",
   "metadata": {},
   "source": [
    "---\n",
    "title: Audible, Books and eBooks...\n",
    "author: Sam Llanwarne\n",
    "date: '2023-01-17'\n",
    "categories:\n",
    "  - Comparison\n",
    "format:\n",
    "  html:\n",
    "    toc: true\n",
    "---"
   ]
  },
  {
   "attachments": {},
   "cell_type": "markdown",
   "metadata": {},
   "source": [
    "Three goals:\n",
    "\n",
    "- Not accumulating items,\n",
    "- Lower cost,\n",
    "- Good experience,\n",
    "\n",
    "Amazon don't sell ebooks and audible together that often, except for in deals, promotions and sometimes in the audible or kindle free complimentary bundle of associated content.\n",
    "\n",
    "But as my brother said you can just get the book from the library which gets you the tactile book for free and temporarily.\n",
    "\n",
    "You could listen to audiobooks on youtube too, if you had youtube premium too...\n",
    "\n",
    "| Format       | Minimalism  |  Cost       | Experience    | Total |\n",
    "| ------------ | :---------: | :---------: | :-----------: | :---: |\n",
    "| Audible      | 3           | 1 (£5)      | 3 (multitask) | 7     | \n",
    "| Ebook        | 3           | 0 (£6?)     | 1             | 4     |\n",
    "| Book         | 0           | 0 (£8)      | 3 (tidy)      | 3     |\n",
    "| Library Book | 2           | 3 (£0)      | 2             | 7     |"
   ]
  }
 ],
 "metadata": {
  "kernelspec": {
   "display_name": "Python 3",
   "language": "python",
   "name": "python3"
  },
  "language_info": {
   "name": "python",
   "version": "3.9.13 (tags/v3.9.13:6de2ca5, May 17 2022, 16:36:42) [MSC v.1929 64 bit (AMD64)]"
  },
  "orig_nbformat": 4,
  "vscode": {
   "interpreter": {
    "hash": "11938c6bc6919ae2720b4d5011047913343b08a43b18698fd82dedb0d4417594"
   }
  }
 },
 "nbformat": 4,
 "nbformat_minor": 2
}
