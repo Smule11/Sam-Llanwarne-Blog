{
 "cells": [
  {
   "attachments": {},
   "cell_type": "raw",
   "metadata": {},
   "source": [
    "---\n",
    "title: Plan guiding which areas of the literature to read\n",
    "author: Sam Llanwarne\n",
    "date: '2022-12-19'\n",
    "categories: [Meta]\n",
    "image: max-saeling-_CGxNOLM1gQ-unsplash.jpg\n",
    "format:\n",
    "  html:\n",
    "    toc: true\n",
    "---"
   ]
  },
  {
   "attachments": {},
   "cell_type": "markdown",
   "metadata": {},
   "source": [
    "-------------------------\n",
    "\n",
    "### Things to read\n",
    "\n",
    "Here I discuss areas of the literature I plan to read.\n",
    "\n",
    "At the moment, the main types of paper that I can think of to read fall into the following categories: \n",
    "\n",
    "* Histology classification [Histo Class]\n",
    "* Histology cell analysis [Histo Cells]\n",
    "* Immunohistochemical classification [IHC Class]\n",
    "* Tumour classification [Tumour Class]\n",
    "* Lymphoma classification [Lymph Class]\n",
    "* Lymphoma types [Lymph Types]\n",
    "* AI classification [AI Class]\n",
    "* AI techniques [AI Tech]\n",
    "* Assistive tools [Med Help]\n",
    "* Novel findings [Novel]\n",
    "* Explainability [Explain]\n",
    "* Short papers [Short]\n",
    "* Long papers [Long]\n",
    "\n",
    "and maybe some other categories I have not thought of yet.\n",
    "\n",
    "Each post may end up having a lot of tags, which will also contribute to summarising the papers."
   ]
  }
 ],
 "metadata": {
  "kernelspec": {
   "display_name": "Python 3",
   "language": "python",
   "name": "python3"
  },
  "language_info": {
   "codemirror_mode": {
    "name": "ipython",
    "version": 3
   },
   "file_extension": ".py",
   "mimetype": "text/x-python",
   "name": "python",
   "nbconvert_exporter": "python",
   "pygments_lexer": "ipython3",
   "version": "3.9.13 (tags/v3.9.13:6de2ca5, May 17 2022, 16:36:42) [MSC v.1929 64 bit (AMD64)]"
  },
  "orig_nbformat": 4,
  "vscode": {
   "interpreter": {
    "hash": "11938c6bc6919ae2720b4d5011047913343b08a43b18698fd82dedb0d4417594"
   }
  }
 },
 "nbformat": 4,
 "nbformat_minor": 2
}
