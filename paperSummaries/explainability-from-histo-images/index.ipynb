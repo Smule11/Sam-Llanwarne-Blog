{
 "cells": [
  {
   "cell_type": "raw",
   "metadata": {},
   "source": [
    "---\n",
    "title: Automated acquisition of explainable knowledge from unannotated histopathology images\n",
    "author: Sam Llanwarne\n",
    "date: '2023-01-05'\n",
    "categories: [Explain, Histo, Cancer]\n",
    "image: fig2.png\n",
    "format:\n",
    "  html:\n",
    "    toc: true\n",
    "---"
   ]
  },
  {
   "attachments": {},
   "cell_type": "markdown",
   "metadata": {},
   "source": [
    "The authors use deep learning to generate explainable features which are used to predict prostate cancer reoccurence.\n",
    "\n",
    "### My Preliminary Questions \n",
    "\n",
    "* What are explainable features? \n",
    "* And how are they derived? \n",
    "* And how are they used to predict cancer reoccurence?\n",
    "\n",
    "### Summary\n",
    "\n",
    "\n",
    "\n"
   ]
  }
 ],
 "metadata": {
  "kernelspec": {
   "display_name": "Python 3",
   "language": "python",
   "name": "python3"
  },
  "language_info": {
   "name": "python",
   "version": "3.9.13 (tags/v3.9.13:6de2ca5, May 17 2022, 16:36:42) [MSC v.1929 64 bit (AMD64)]"
  },
  "orig_nbformat": 4,
  "vscode": {
   "interpreter": {
    "hash": "11938c6bc6919ae2720b4d5011047913343b08a43b18698fd82dedb0d4417594"
   }
  }
 },
 "nbformat": 4,
 "nbformat_minor": 2
}
