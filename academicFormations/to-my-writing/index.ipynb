{
 "cells": [
  {
   "cell_type": "raw",
   "metadata": {},
   "source": [
    "---\n",
    "title: Link to PDF\n",
    "author: Sam Llanwarne\n",
    "date: '2023-01-06'\n",
    "categories: [Link]\n",
    "image: donna-elliot-Sdzy9vYDdEo-unsplash.jpg\n",
    "format:\n",
    "  html:\n",
    "    toc: true\n",
    "---"
   ]
  },
  {
   "attachments": {},
   "cell_type": "markdown",
   "metadata": {},
   "source": [
    "<form id=\"myform\">\n",
    "    <input type=\"text\" id=\"url\" placeholder=\"Enter a URL\">\n",
    "    <input type=\"submit\" value=\"GO\">\n",
    "</form>\n",
    "\n",
    "<script>\n",
    "    \n",
    "    <!-- // Get the form element -->\n",
    "\n",
    "    const form = document.getElementById(\"myform\");\n",
    "\n",
    "    <!-- // Add an event listener to the form that listens for the \"submit\" event -->\n",
    "\n",
    "    form.addEventListener(\"submit\", function(event) {\n",
    "\n",
    "        <!-- // Prevent the default form submission behavior -->\n",
    "\n",
    "        event.preventDefault();\n",
    "\n",
    "        <!-- // Get the value of the text field -->\n",
    "\n",
    "        const url = document.getElementById(\"url\").value;\n",
    "\n",
    "        <!-- // Redirect the user to the entered URL -->\n",
    "\n",
    "        window.location.href = url;\n",
    "    });\n",
    "</script>"
   ]
  }
 ],
 "metadata": {
  "kernelspec": {
   "display_name": "Python 3",
   "language": "python",
   "name": "python3"
  },
  "language_info": {
   "codemirror_mode": {
    "name": "ipython",
    "version": 3
   },
   "file_extension": ".py",
   "mimetype": "text/x-python",
   "name": "python",
   "nbconvert_exporter": "python",
   "pygments_lexer": "ipython3",
   "version": "3.9.13"
  },
  "orig_nbformat": 4,
  "vscode": {
   "interpreter": {
    "hash": "11938c6bc6919ae2720b4d5011047913343b08a43b18698fd82dedb0d4417594"
   }
  }
 },
 "nbformat": 4,
 "nbformat_minor": 2
}
