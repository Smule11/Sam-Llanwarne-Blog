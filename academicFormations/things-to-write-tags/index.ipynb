{
 "cells": [
  {
   "attachments": {},
   "cell_type": "raw",
   "metadata": {},
   "source": [
    "---\n",
    "title: Plan of things I will write about\n",
    "author: Sam Llanwarne\n",
    "date: '2022-12-19'\n",
    "categories: [Meta]\n",
    "image: max-saeling-_CGxNOLM1gQ-unsplash.jpg\n",
    "format:\n",
    "  html:\n",
    "    toc: true\n",
    "---"
   ]
  },
  {
   "attachments": {},
   "cell_type": "markdown",
   "metadata": {},
   "source": [
    "\n",
    "-------------------------\n",
    "\n",
    "### <font color=#F87217> Things to write </font>\n",
    "\n",
    "Here I discuss things I will write about and plans on structuring the writing.\n",
    "\n",
    "Essentially, each post will fit into a **Chapter**, and contribute to a section such as the **Background**, **Method** or **Results**, and will be leading towards a specific Outcome.\n",
    "\n",
    "In this way, a post could have three tags, situating it specifically somewhere within the wider scope of the project based on the Chapter/Outcome/Section.\n",
    "\n",
    "Or the post could simply have a **Big Picture** tag wherein the post would discuss some overarching concept or plan, or a **Meta** tag such as this post where I am writing indirectly about the academic content.\n",
    "\n",
    "<br>\n",
    "\n",
    "Each entry won't include the data, or the code, but can describe the data and methodology sections will go over the code.\n",
    "\n",
    "I intend to have each Chapter starting with a brief problem and desired outcomes. In the background I will go over the problem and potential outcomes as already explored by other researchers in more detail and the results they achieved. For the Method I will go over my approach. Similarly, for the results I will go over my results. \n",
    "\n",
    "Each problem will have at least this entry, but might have some sub-entries depending on the amount of work done. I will look to follow other well-established paper formats and thesis formats, in terms of the depth of information conveyed in said papers and theses.\n",
    "\n",
    "<br>\n",
    "\n",
    "### <font color=#F87217> How to implement a password lock (only allowing certain emails to access the writing) </font>\n",
    "\n",
    "I can put the academic blogs behind a landing page which requires a password to access.\n",
    "\n",
    "I can have a link on this landing page which gives the password when the reader clicks on it.\n",
    "\n",
    "I can choose to only share the link with people who have certain email addresses (OneDrive or Google addresses, etc.)"
   ]
  }
 ],
 "metadata": {
  "kernelspec": {
   "display_name": "Python 3",
   "language": "python",
   "name": "python3"
  },
  "language_info": {
   "codemirror_mode": {
    "name": "ipython",
    "version": 3
   },
   "file_extension": ".py",
   "mimetype": "text/x-python",
   "name": "python",
   "nbconvert_exporter": "python",
   "pygments_lexer": "ipython3",
   "version": "3.9.13 (tags/v3.9.13:6de2ca5, May 17 2022, 16:36:42) [MSC v.1929 64 bit (AMD64)]"
  },
  "orig_nbformat": 4,
  "vscode": {
   "interpreter": {
    "hash": "11938c6bc6919ae2720b4d5011047913343b08a43b18698fd82dedb0d4417594"
   }
  }
 },
 "nbformat": 4,
 "nbformat_minor": 2
}
