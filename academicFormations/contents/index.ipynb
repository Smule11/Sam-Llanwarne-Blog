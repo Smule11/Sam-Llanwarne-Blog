{
 "cells": [
  {
   "cell_type": "raw",
   "metadata": {},
   "source": [
    "---\n",
    "title: Contents of my Thesis\n",
    "author: Sam Llanwarne\n",
    "date: '2022-12-19'\n",
    "categories: [Contents]\n",
    "image: florian-klauer-mk7D-4UCfmg-unsplash.jpg\n",
    "format:\n",
    "  html:\n",
    "    toc: true\n",
    "---"
   ]
  },
  {
   "attachments": {},
   "cell_type": "markdown",
   "metadata": {},
   "source": [
    "---------------------------\n",
    "\n",
    "The contents of my main project, with each section broken down into multiple enumerated entries posted here.\n",
    "\n",
    "Each section will fall under a specific desired outcome, which will sit inside a relevant Chapter. \n",
    "\n",
    "Links to guides on thesis structures and contents I read:\n",
    "\n",
    "<p align=\"center\">\n",
    "<img src=\"mines_edu_thesis_with_Journal_papers_in.png\" alt=\"mines_edu_thesis_with_Journal_papers_in\" width=70%/>\n",
    "<center>\n",
    "[https://www.mines.edu/graduate-studies/wp-content/uploads/sites/60/2018/02/GS_Journal_Paper_Format.pdf](https://www.mines.edu/graduate-studies/wp-content/uploads/sites/60/2018/02/GS_Journal_Paper_Format.pdf)\n",
    "\n",
    "<!-- <a href=\"https://www.mines.edu/graduate-studies/wp-content/uploads/sites/60/2018/02/GS_Journal_Paper_Format.pdf\" style=\"color: white\">https://www.mines.edu/graduate-studies/wp-content/uploads/sites/60/2018/02/GS_Journal_Paper_Format.pdf</a> -->\n",
    "\n",
    "</center>\n",
    "</p>\n",
    "\n",
    "<br>\n",
    "\n",
    "<p align=\"center\">\n",
    "<img src=\"oxfordechoes_com_wp-content_uploads_2015_07_chaptitle.png\" alt=\"oxfordechoes_com_wp-content_uploads_2015_07_chaptitle\" width=70%/>\n",
    "<center>\n",
    "<a href=\"https://www.oxfordechoes.com/oxford-thesis-template/toc/\" style=\"color: white\">https://www.oxfordechoes.com/oxford-thesis-template/toc/</a>\n",
    "</center>\n",
    "</p>\n",
    "\n",
    "<br>\n",
    "\n",
    "<p align=\"center\">\n",
    "<img src=\"uwm_edu_graduate_formatting_thesis.png\" alt=\"uwm_edu_graduate_formatting_thesis\" width=70%/>\n",
    "<center>\n",
    "<a href=\"https://uwm.edu/graduateschool/wp-content/uploads/sites/519/2020/08/thesis-and-dissertation-formatting.pdf\" style=\"color: white\">https://uwm.edu/graduateschool/wp-content/uploads/sites/519/2020/08/thesis-and-dissertation-formatting.pdf</a>\n",
    "</center>\n",
    "</p>\n",
    "\n",
    "<br>\n",
    "\n",
    "<p align=\"center\">\n",
    "<img src=\"thesishelpers_com_blog_dissertation-table-of-contents.png\" alt=\"thesishelpers_com_blog_dissertation-table-of-contents\" width=70%/>\n",
    "<center>\n",
    "<a href=\"https://www.thesishelpers.com/blog/dissertation-table-of-contents/\" style=\"color: white\">https://www.thesishelpers.com/blog/dissertation-table-of-contents/</a>\n",
    "</center>\n",
    "</p>\n",
    "\n",
    "<br>\n",
    "\n",
    "\n",
    "### Contents\n",
    "\n",
    "\n",
    "\n"
   ]
  }
 ],
 "metadata": {
  "kernelspec": {
   "display_name": "Python 3",
   "language": "python",
   "name": "python3"
  },
  "language_info": {
   "name": "python",
   "version": "3.9.13 (tags/v3.9.13:6de2ca5, May 17 2022, 16:36:42) [MSC v.1929 64 bit (AMD64)]"
  },
  "orig_nbformat": 4,
  "vscode": {
   "interpreter": {
    "hash": "11938c6bc6919ae2720b4d5011047913343b08a43b18698fd82dedb0d4417594"
   }
  }
 },
 "nbformat": 4,
 "nbformat_minor": 2
}
