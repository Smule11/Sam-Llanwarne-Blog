{
 "cells": [
  {
   "cell_type": "raw",
   "metadata": {},
   "source": [
    "---\n",
    "title: Contents\n",
    "author: Sam Llanwarne\n",
    "date: '2022-12-19'\n",
    "categories: [Contents]\n",
    "image: florian-klauer-mk7D-4UCfmg-unsplash.jpg\n",
    "format:\n",
    "  html:\n",
    "    toc: true\n",
    "---"
   ]
  },
  {
   "attachments": {},
   "cell_type": "markdown",
   "metadata": {},
   "source": [
    "## Contents of Thesis\n",
    "\n",
    "The contents of my main project, with each section broken down into multiple enumerated entries posted here.\n",
    "\n",
    "Each section will fall under a specific desired outcome, which will sit inside a relevant Chapter. \n",
    "\n",
    "Links to guides on thesis structures and contents I read:\n",
    "\n",
    "<p align=\"center\">\n",
    "<img src=\"mines_edu_thesis_with_Journal_papers_in.png\" alt=\"mines_edu_thesis_with_Journal_papers_in\" width=75%/>\n",
    "<center>\n",
    "https://www.mines.edu/graduate-studies/wp-content/uploads/sites/60/2018/02/GS_Journal_Paper_Format.pdf\n",
    "</center>\n",
    "</p>\n",
    "\n",
    "\n",
    "<p align=\"center\">\n",
    "<img src=\"mines_edu_thesis_with_Journal_papers_in.png\" alt=\"mines_edu_thesis_with_Journal_papers_in\" width=75%/>\n",
    "<center>\n",
    "https://www.oxfordechoes.com/oxford-thesis-template/toc/\n",
    "</center>\n",
    "</p>\n",
    "\n",
    "\n",
    "<p align=\"center\">\n",
    "<img src=\"mines_edu_thesis_with_Journal_papers_in.png\" alt=\"mines_edu_thesis_with_Journal_papers_in\" width=75%/>\n",
    "<center>\n",
    "https://uwm.edu/graduateschool/wp-content/uploads/sites/519/2020/08/thesis-and-dissertation-formatting.pdf\n",
    "</center>\n",
    "</p>\n",
    "\n",
    "\n",
    "<p align=\"center\">\n",
    "<img src=\"mines_edu_thesis_with_Journal_papers_in.png\" alt=\"mines_edu_thesis_with_Journal_papers_in\" width=75%/>\n",
    "<center>\n",
    "https://dissertationwritinghelp.uk/dissertation-table-of-contents/\n",
    "</center>\n",
    "</p>\n",
    "\n",
    "\n",
    "<p align=\"center\">\n",
    "<img src=\"mines_edu_thesis_with_Journal_papers_in.png\" alt=\"mines_edu_thesis_with_Journal_papers_in\" width=75%/>\n",
    "<center>\n",
    "https://www.thesishelpers.com/blog/dissertation-table-of-contents/\n",
    "</center>\n",
    "</p>\n",
    "\n",
    "\n",
    "\n",
    "### Contents\n",
    "\n",
    "\n",
    "\n"
   ]
  }
 ],
 "metadata": {
  "kernelspec": {
   "display_name": "Python 3",
   "language": "python",
   "name": "python3"
  },
  "language_info": {
   "name": "python",
   "version": "3.9.13 (tags/v3.9.13:6de2ca5, May 17 2022, 16:36:42) [MSC v.1929 64 bit (AMD64)]"
  },
  "orig_nbformat": 4,
  "vscode": {
   "interpreter": {
    "hash": "11938c6bc6919ae2720b4d5011047913343b08a43b18698fd82dedb0d4417594"
   }
  }
 },
 "nbformat": 4,
 "nbformat_minor": 2
}
