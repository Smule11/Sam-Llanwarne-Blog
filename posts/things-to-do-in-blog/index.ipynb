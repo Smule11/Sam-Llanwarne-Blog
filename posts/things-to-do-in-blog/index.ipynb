{
 "cells": [
  {
   "attachments": {},
   "cell_type": "raw",
   "metadata": {},
   "source": [
    "---\n",
    "title: To Do\n",
    "author: Sam Llanwarne\n",
    "date: '2022-12-19'\n",
    "categories: [To Do]\n",
    "image: max-saeling-_CGxNOLM1gQ-unsplash.jpg\n",
    "format:\n",
    "  html:\n",
    "    toc: true\n",
    "---"
   ]
  },
  {
   "attachments": {},
   "cell_type": "markdown",
   "metadata": {},
   "source": [
    "\n",
    "-------------------------\n",
    "\n",
    "### To change\n",
    "\n",
    "Making a list of things to do here...\n",
    "\n",
    "* To add a comments section\n",
    "* To understand why .ipynb files throw a soft error while .qmd files are fine. \n",
    "    + .ipynb files throw a \"listing contains no meta data\" error while .qmd files don't. Also, I think .qmd files don't auto render when I save but .ipynb do even though I thought I changed that setting. Finally, I hope the .ipynb file doesn't try and rerun all the cells when I save, as I also changed that setting..."
   ]
  }
 ],
 "metadata": {
  "kernelspec": {
   "display_name": "Python 3",
   "language": "python",
   "name": "python3"
  },
  "language_info": {
   "codemirror_mode": {
    "name": "ipython",
    "version": 3
   },
   "file_extension": ".py",
   "mimetype": "text/x-python",
   "name": "python",
   "nbconvert_exporter": "python",
   "pygments_lexer": "ipython3",
   "version": "3.9.13 (tags/v3.9.13:6de2ca5, May 17 2022, 16:36:42) [MSC v.1929 64 bit (AMD64)]"
  },
  "orig_nbformat": 4,
  "vscode": {
   "interpreter": {
    "hash": "11938c6bc6919ae2720b4d5011047913343b08a43b18698fd82dedb0d4417594"
   }
  }
 },
 "nbformat": 4,
 "nbformat_minor": 2
}
